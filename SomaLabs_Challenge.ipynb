{
  "nbformat": 4,
  "nbformat_minor": 0,
  "metadata": {
    "colab": {
      "name": "SomaLabs - Challenge.ipynb",
      "version": "0.3.2",
      "provenance": [],
      "collapsed_sections": []
    },
    "kernelspec": {
      "name": "python3",
      "display_name": "Python 3"
    }
  },
  "cells": [
    {
      "cell_type": "markdown",
      "metadata": {
        "id": "Vp_zkUY-IAqx",
        "colab_type": "text"
      },
      "source": [
        "##Importação das bibliotecas\n",
        "\n"
      ]
    },
    {
      "cell_type": "code",
      "metadata": {
        "id": "y9OFyV4AlfNZ",
        "colab_type": "code",
        "colab": {}
      },
      "source": [
        "import pandas as pd\n",
        "import requests\n",
        "import json\n",
        "import sqlalchemy as sql"
      ],
      "execution_count": 0,
      "outputs": []
    },
    {
      "cell_type": "markdown",
      "metadata": {
        "id": "sf8EIn5TH82D",
        "colab_type": "text"
      },
      "source": [
        "##Leitura do csv para um DataFrame"
      ]
    },
    {
      "cell_type": "code",
      "metadata": {
        "id": "hwHVCXVpvHqo",
        "colab_type": "code",
        "colab": {}
      },
      "source": [
        "filiais = pd.read_csv(\"https://bitbucket.org/somalabs/python-challenge/raw/ee636c254648f5123729337a3815b03aaccdad9e/filiais.csv\")"
      ],
      "execution_count": 0,
      "outputs": []
    },
    {
      "cell_type": "markdown",
      "metadata": {
        "id": "mnKDrRReIPEb",
        "colab_type": "text"
      },
      "source": [
        "##GET na API em  texto"
      ]
    },
    {
      "cell_type": "code",
      "metadata": {
        "id": "aQwDHE-4vYxT",
        "colab_type": "code",
        "colab": {}
      },
      "source": [
        "vendas_api = requests.get(\"http://private-amnesiac-78bfc-vendas4.apiary-proxy.com/vendas\").text"
      ],
      "execution_count": 0,
      "outputs": []
    },
    {
      "cell_type": "markdown",
      "metadata": {
        "id": "K7rWl0OXIdci",
        "colab_type": "text"
      },
      "source": [
        "##Transforma o json em um dicionário de python"
      ]
    },
    {
      "cell_type": "code",
      "metadata": {
        "id": "CW5Mo8mzEmoZ",
        "colab_type": "code",
        "colab": {}
      },
      "source": [
        "dic_vendas = json.loads(vendas_api)"
      ],
      "execution_count": 0,
      "outputs": []
    },
    {
      "cell_type": "markdown",
      "metadata": {
        "id": "xqmeLtc4I8VG",
        "colab_type": "text"
      },
      "source": [
        "##Transforma o dicionário em um Data Frame"
      ]
    },
    {
      "cell_type": "code",
      "metadata": {
        "id": "5EW0MSl4FtQH",
        "colab_type": "code",
        "colab": {}
      },
      "source": [
        "df_vendas = pd.DataFrame(dic_vendas)"
      ],
      "execution_count": 0,
      "outputs": []
    },
    {
      "cell_type": "markdown",
      "metadata": {
        "id": "X4Jo6R5HJpLb",
        "colab_type": "text"
      },
      "source": [
        "##Faz o merge das tabelas utilizando como campo em comum o código da filial"
      ]
    },
    {
      "cell_type": "code",
      "metadata": {
        "id": "GS6RhDAMzfyb",
        "colab_type": "code",
        "colab": {}
      },
      "source": [
        "vendas_filiais = pd.merge(filiais,df_vendas, left_on = 'codigo_filial', right_on = 'vendido_por')"
      ],
      "execution_count": 0,
      "outputs": []
    },
    {
      "cell_type": "markdown",
      "metadata": {
        "id": "BKt6g2KLJ-Fo",
        "colab_type": "text"
      },
      "source": [
        "##Remove a columa redundante"
      ]
    },
    {
      "cell_type": "code",
      "metadata": {
        "id": "UyCcc2FiHxnq",
        "colab_type": "code",
        "colab": {}
      },
      "source": [
        "vendas_filiais = vendas_filiais.drop('vendido_por', axis=1)"
      ],
      "execution_count": 0,
      "outputs": []
    },
    {
      "cell_type": "markdown",
      "metadata": {
        "id": "LVP8j4n2mU_5",
        "colab_type": "text"
      },
      "source": [
        "##Cria o banco de dados"
      ]
    },
    {
      "cell_type": "code",
      "metadata": {
        "id": "hpDS_de0M_o4",
        "colab_type": "code",
        "colab": {}
      },
      "source": [
        "engine = sql.create_engine('sqlite://')\n",
        "vendas_filiais.to_sql('vendas', con=engine)"
      ],
      "execution_count": 0,
      "outputs": []
    },
    {
      "cell_type": "markdown",
      "metadata": {
        "id": "YFR7L37Rged9",
        "colab_type": "text"
      },
      "source": [
        "##Consulta total de vendas por dia em cada filial"
      ]
    },
    {
      "cell_type": "code",
      "metadata": {
        "id": "VzxPvLiENa1O",
        "colab_type": "code",
        "colab": {}
      },
      "source": [
        "vendas_por_dia = engine.execute(\"SELECT nome_filial, COUNT(codigo_filial), date(registered) FROM vendas GROUP BY codigo_filial, date(registered)\").fetchall()"
      ],
      "execution_count": 0,
      "outputs": []
    },
    {
      "cell_type": "markdown",
      "metadata": {
        "id": "9cSz_OESEPu9",
        "colab_type": "text"
      },
      "source": [
        "###Converte saída da consulta para um data frame para melhor visualização"
      ]
    },
    {
      "cell_type": "code",
      "metadata": {
        "id": "iWwoLu7HqNei",
        "colab_type": "code",
        "colab": {
          "base_uri": "https://localhost:8080/",
          "height": 1969
        },
        "outputId": "242425a9-770a-4fc8-9450-11f829073ec2"
      },
      "source": [
        "pd.DataFrame(vendas_por_dia, columns = ['Nome filial', 'Quantidade de vendas','Dia'])"
      ],
      "execution_count": 10,
      "outputs": [
        {
          "output_type": "execute_result",
          "data": {
            "text/html": [
              "<div>\n",
              "<style scoped>\n",
              "    .dataframe tbody tr th:only-of-type {\n",
              "        vertical-align: middle;\n",
              "    }\n",
              "\n",
              "    .dataframe tbody tr th {\n",
              "        vertical-align: top;\n",
              "    }\n",
              "\n",
              "    .dataframe thead th {\n",
              "        text-align: right;\n",
              "    }\n",
              "</style>\n",
              "<table border=\"1\" class=\"dataframe\">\n",
              "  <thead>\n",
              "    <tr style=\"text-align: right;\">\n",
              "      <th></th>\n",
              "      <th>Nome filial</th>\n",
              "      <th>Quantidade de vendas</th>\n",
              "      <th>Dia</th>\n",
              "    </tr>\n",
              "  </thead>\n",
              "  <tbody>\n",
              "    <tr>\n",
              "      <th>0</th>\n",
              "      <td>foxtontijuca</td>\n",
              "      <td>1</td>\n",
              "      <td>2019-01-02</td>\n",
              "    </tr>\n",
              "    <tr>\n",
              "      <th>1</th>\n",
              "      <td>foxtontijuca</td>\n",
              "      <td>1</td>\n",
              "      <td>2019-01-05</td>\n",
              "    </tr>\n",
              "    <tr>\n",
              "      <th>2</th>\n",
              "      <td>foxtontijuca</td>\n",
              "      <td>1</td>\n",
              "      <td>2019-01-10</td>\n",
              "    </tr>\n",
              "    <tr>\n",
              "      <th>3</th>\n",
              "      <td>foxtontijuca</td>\n",
              "      <td>1</td>\n",
              "      <td>2019-01-18</td>\n",
              "    </tr>\n",
              "    <tr>\n",
              "      <th>4</th>\n",
              "      <td>foxtontijuca</td>\n",
              "      <td>1</td>\n",
              "      <td>2019-01-29</td>\n",
              "    </tr>\n",
              "    <tr>\n",
              "      <th>5</th>\n",
              "      <td>foxtontijuca</td>\n",
              "      <td>1</td>\n",
              "      <td>2019-03-05</td>\n",
              "    </tr>\n",
              "    <tr>\n",
              "      <th>6</th>\n",
              "      <td>foxtontijuca</td>\n",
              "      <td>1</td>\n",
              "      <td>2019-03-16</td>\n",
              "    </tr>\n",
              "    <tr>\n",
              "      <th>7</th>\n",
              "      <td>foxtontijuca</td>\n",
              "      <td>1</td>\n",
              "      <td>2019-03-19</td>\n",
              "    </tr>\n",
              "    <tr>\n",
              "      <th>8</th>\n",
              "      <td>foxtontijuca</td>\n",
              "      <td>1</td>\n",
              "      <td>2019-03-26</td>\n",
              "    </tr>\n",
              "    <tr>\n",
              "      <th>9</th>\n",
              "      <td>foxtontijuca</td>\n",
              "      <td>1</td>\n",
              "      <td>2019-04-04</td>\n",
              "    </tr>\n",
              "    <tr>\n",
              "      <th>10</th>\n",
              "      <td>foxtontijuca</td>\n",
              "      <td>1</td>\n",
              "      <td>2019-04-06</td>\n",
              "    </tr>\n",
              "    <tr>\n",
              "      <th>11</th>\n",
              "      <td>foxtontijuca</td>\n",
              "      <td>1</td>\n",
              "      <td>2019-04-07</td>\n",
              "    </tr>\n",
              "    <tr>\n",
              "      <th>12</th>\n",
              "      <td>foxtontijuca</td>\n",
              "      <td>1</td>\n",
              "      <td>2019-04-26</td>\n",
              "    </tr>\n",
              "    <tr>\n",
              "      <th>13</th>\n",
              "      <td>foxtontijuca</td>\n",
              "      <td>1</td>\n",
              "      <td>2019-04-29</td>\n",
              "    </tr>\n",
              "    <tr>\n",
              "      <th>14</th>\n",
              "      <td>foxtontijuca</td>\n",
              "      <td>1</td>\n",
              "      <td>2019-05-08</td>\n",
              "    </tr>\n",
              "    <tr>\n",
              "      <th>15</th>\n",
              "      <td>foxtontijuca</td>\n",
              "      <td>1</td>\n",
              "      <td>2019-05-13</td>\n",
              "    </tr>\n",
              "    <tr>\n",
              "      <th>16</th>\n",
              "      <td>foxtontijuca</td>\n",
              "      <td>1</td>\n",
              "      <td>2019-05-17</td>\n",
              "    </tr>\n",
              "    <tr>\n",
              "      <th>17</th>\n",
              "      <td>foxtontijuca</td>\n",
              "      <td>1</td>\n",
              "      <td>2019-05-23</td>\n",
              "    </tr>\n",
              "    <tr>\n",
              "      <th>18</th>\n",
              "      <td>foxtontijuca</td>\n",
              "      <td>1</td>\n",
              "      <td>2019-06-05</td>\n",
              "    </tr>\n",
              "    <tr>\n",
              "      <th>19</th>\n",
              "      <td>foxtongavea</td>\n",
              "      <td>1</td>\n",
              "      <td>2019-01-02</td>\n",
              "    </tr>\n",
              "    <tr>\n",
              "      <th>20</th>\n",
              "      <td>foxtongavea</td>\n",
              "      <td>1</td>\n",
              "      <td>2019-01-15</td>\n",
              "    </tr>\n",
              "    <tr>\n",
              "      <th>21</th>\n",
              "      <td>foxtongavea</td>\n",
              "      <td>1</td>\n",
              "      <td>2019-01-16</td>\n",
              "    </tr>\n",
              "    <tr>\n",
              "      <th>22</th>\n",
              "      <td>foxtongavea</td>\n",
              "      <td>1</td>\n",
              "      <td>2019-01-21</td>\n",
              "    </tr>\n",
              "    <tr>\n",
              "      <th>23</th>\n",
              "      <td>foxtongavea</td>\n",
              "      <td>1</td>\n",
              "      <td>2019-02-03</td>\n",
              "    </tr>\n",
              "    <tr>\n",
              "      <th>24</th>\n",
              "      <td>foxtongavea</td>\n",
              "      <td>1</td>\n",
              "      <td>2019-02-08</td>\n",
              "    </tr>\n",
              "    <tr>\n",
              "      <th>25</th>\n",
              "      <td>foxtongavea</td>\n",
              "      <td>2</td>\n",
              "      <td>2019-02-14</td>\n",
              "    </tr>\n",
              "    <tr>\n",
              "      <th>26</th>\n",
              "      <td>foxtongavea</td>\n",
              "      <td>1</td>\n",
              "      <td>2019-02-17</td>\n",
              "    </tr>\n",
              "    <tr>\n",
              "      <th>27</th>\n",
              "      <td>foxtongavea</td>\n",
              "      <td>1</td>\n",
              "      <td>2019-02-19</td>\n",
              "    </tr>\n",
              "    <tr>\n",
              "      <th>28</th>\n",
              "      <td>foxtongavea</td>\n",
              "      <td>1</td>\n",
              "      <td>2019-02-26</td>\n",
              "    </tr>\n",
              "    <tr>\n",
              "      <th>29</th>\n",
              "      <td>foxtongavea</td>\n",
              "      <td>1</td>\n",
              "      <td>2019-03-04</td>\n",
              "    </tr>\n",
              "    <tr>\n",
              "      <th>...</th>\n",
              "      <td>...</td>\n",
              "      <td>...</td>\n",
              "      <td>...</td>\n",
              "    </tr>\n",
              "    <tr>\n",
              "      <th>150</th>\n",
              "      <td>foxtonbarrashopping</td>\n",
              "      <td>1</td>\n",
              "      <td>2019-04-25</td>\n",
              "    </tr>\n",
              "    <tr>\n",
              "      <th>151</th>\n",
              "      <td>foxtonbarrashopping</td>\n",
              "      <td>1</td>\n",
              "      <td>2019-05-07</td>\n",
              "    </tr>\n",
              "    <tr>\n",
              "      <th>152</th>\n",
              "      <td>foxtonbarrashopping</td>\n",
              "      <td>1</td>\n",
              "      <td>2019-05-13</td>\n",
              "    </tr>\n",
              "    <tr>\n",
              "      <th>153</th>\n",
              "      <td>foxtonbarrashopping</td>\n",
              "      <td>2</td>\n",
              "      <td>2019-05-16</td>\n",
              "    </tr>\n",
              "    <tr>\n",
              "      <th>154</th>\n",
              "      <td>foxtonbarrashopping</td>\n",
              "      <td>1</td>\n",
              "      <td>2019-05-21</td>\n",
              "    </tr>\n",
              "    <tr>\n",
              "      <th>155</th>\n",
              "      <td>foxtonbarrashopping</td>\n",
              "      <td>1</td>\n",
              "      <td>2019-05-25</td>\n",
              "    </tr>\n",
              "    <tr>\n",
              "      <th>156</th>\n",
              "      <td>foxtonbarrashopping</td>\n",
              "      <td>1</td>\n",
              "      <td>2019-05-31</td>\n",
              "    </tr>\n",
              "    <tr>\n",
              "      <th>157</th>\n",
              "      <td>foxtonbarrashopping</td>\n",
              "      <td>2</td>\n",
              "      <td>2019-06-11</td>\n",
              "    </tr>\n",
              "    <tr>\n",
              "      <th>158</th>\n",
              "      <td>foxtonbarrashopping</td>\n",
              "      <td>2</td>\n",
              "      <td>2019-06-12</td>\n",
              "    </tr>\n",
              "    <tr>\n",
              "      <th>159</th>\n",
              "      <td>foxtonbarrashopping</td>\n",
              "      <td>1</td>\n",
              "      <td>2019-06-14</td>\n",
              "    </tr>\n",
              "    <tr>\n",
              "      <th>160</th>\n",
              "      <td>foxtonipanema</td>\n",
              "      <td>1</td>\n",
              "      <td>2019-01-02</td>\n",
              "    </tr>\n",
              "    <tr>\n",
              "      <th>161</th>\n",
              "      <td>foxtonipanema</td>\n",
              "      <td>1</td>\n",
              "      <td>2019-01-17</td>\n",
              "    </tr>\n",
              "    <tr>\n",
              "      <th>162</th>\n",
              "      <td>foxtonipanema</td>\n",
              "      <td>1</td>\n",
              "      <td>2019-02-04</td>\n",
              "    </tr>\n",
              "    <tr>\n",
              "      <th>163</th>\n",
              "      <td>foxtonipanema</td>\n",
              "      <td>1</td>\n",
              "      <td>2019-02-07</td>\n",
              "    </tr>\n",
              "    <tr>\n",
              "      <th>164</th>\n",
              "      <td>foxtonipanema</td>\n",
              "      <td>1</td>\n",
              "      <td>2019-02-09</td>\n",
              "    </tr>\n",
              "    <tr>\n",
              "      <th>165</th>\n",
              "      <td>foxtonipanema</td>\n",
              "      <td>1</td>\n",
              "      <td>2019-02-12</td>\n",
              "    </tr>\n",
              "    <tr>\n",
              "      <th>166</th>\n",
              "      <td>foxtonipanema</td>\n",
              "      <td>1</td>\n",
              "      <td>2019-02-27</td>\n",
              "    </tr>\n",
              "    <tr>\n",
              "      <th>167</th>\n",
              "      <td>foxtonipanema</td>\n",
              "      <td>1</td>\n",
              "      <td>2019-03-04</td>\n",
              "    </tr>\n",
              "    <tr>\n",
              "      <th>168</th>\n",
              "      <td>foxtonipanema</td>\n",
              "      <td>1</td>\n",
              "      <td>2019-03-08</td>\n",
              "    </tr>\n",
              "    <tr>\n",
              "      <th>169</th>\n",
              "      <td>foxtonipanema</td>\n",
              "      <td>2</td>\n",
              "      <td>2019-03-11</td>\n",
              "    </tr>\n",
              "    <tr>\n",
              "      <th>170</th>\n",
              "      <td>foxtonipanema</td>\n",
              "      <td>1</td>\n",
              "      <td>2019-03-12</td>\n",
              "    </tr>\n",
              "    <tr>\n",
              "      <th>171</th>\n",
              "      <td>foxtonipanema</td>\n",
              "      <td>1</td>\n",
              "      <td>2019-03-21</td>\n",
              "    </tr>\n",
              "    <tr>\n",
              "      <th>172</th>\n",
              "      <td>foxtonipanema</td>\n",
              "      <td>1</td>\n",
              "      <td>2019-04-11</td>\n",
              "    </tr>\n",
              "    <tr>\n",
              "      <th>173</th>\n",
              "      <td>foxtonipanema</td>\n",
              "      <td>1</td>\n",
              "      <td>2019-04-14</td>\n",
              "    </tr>\n",
              "    <tr>\n",
              "      <th>174</th>\n",
              "      <td>foxtonipanema</td>\n",
              "      <td>1</td>\n",
              "      <td>2019-04-21</td>\n",
              "    </tr>\n",
              "    <tr>\n",
              "      <th>175</th>\n",
              "      <td>foxtonipanema</td>\n",
              "      <td>1</td>\n",
              "      <td>2019-04-26</td>\n",
              "    </tr>\n",
              "    <tr>\n",
              "      <th>176</th>\n",
              "      <td>foxtonipanema</td>\n",
              "      <td>1</td>\n",
              "      <td>2019-05-30</td>\n",
              "    </tr>\n",
              "    <tr>\n",
              "      <th>177</th>\n",
              "      <td>foxtonipanema</td>\n",
              "      <td>1</td>\n",
              "      <td>2019-06-08</td>\n",
              "    </tr>\n",
              "    <tr>\n",
              "      <th>178</th>\n",
              "      <td>foxtonipanema</td>\n",
              "      <td>1</td>\n",
              "      <td>2019-06-11</td>\n",
              "    </tr>\n",
              "    <tr>\n",
              "      <th>179</th>\n",
              "      <td>foxtonipanema</td>\n",
              "      <td>1</td>\n",
              "      <td>2019-06-12</td>\n",
              "    </tr>\n",
              "  </tbody>\n",
              "</table>\n",
              "<p>180 rows × 3 columns</p>\n",
              "</div>"
            ],
            "text/plain": [
              "             Nome filial  Quantidade de vendas         Dia\n",
              "0           foxtontijuca                     1  2019-01-02\n",
              "1           foxtontijuca                     1  2019-01-05\n",
              "2           foxtontijuca                     1  2019-01-10\n",
              "3           foxtontijuca                     1  2019-01-18\n",
              "4           foxtontijuca                     1  2019-01-29\n",
              "5           foxtontijuca                     1  2019-03-05\n",
              "6           foxtontijuca                     1  2019-03-16\n",
              "7           foxtontijuca                     1  2019-03-19\n",
              "8           foxtontijuca                     1  2019-03-26\n",
              "9           foxtontijuca                     1  2019-04-04\n",
              "10          foxtontijuca                     1  2019-04-06\n",
              "11          foxtontijuca                     1  2019-04-07\n",
              "12          foxtontijuca                     1  2019-04-26\n",
              "13          foxtontijuca                     1  2019-04-29\n",
              "14          foxtontijuca                     1  2019-05-08\n",
              "15          foxtontijuca                     1  2019-05-13\n",
              "16          foxtontijuca                     1  2019-05-17\n",
              "17          foxtontijuca                     1  2019-05-23\n",
              "18          foxtontijuca                     1  2019-06-05\n",
              "19           foxtongavea                     1  2019-01-02\n",
              "20           foxtongavea                     1  2019-01-15\n",
              "21           foxtongavea                     1  2019-01-16\n",
              "22           foxtongavea                     1  2019-01-21\n",
              "23           foxtongavea                     1  2019-02-03\n",
              "24           foxtongavea                     1  2019-02-08\n",
              "25           foxtongavea                     2  2019-02-14\n",
              "26           foxtongavea                     1  2019-02-17\n",
              "27           foxtongavea                     1  2019-02-19\n",
              "28           foxtongavea                     1  2019-02-26\n",
              "29           foxtongavea                     1  2019-03-04\n",
              "..                   ...                   ...         ...\n",
              "150  foxtonbarrashopping                     1  2019-04-25\n",
              "151  foxtonbarrashopping                     1  2019-05-07\n",
              "152  foxtonbarrashopping                     1  2019-05-13\n",
              "153  foxtonbarrashopping                     2  2019-05-16\n",
              "154  foxtonbarrashopping                     1  2019-05-21\n",
              "155  foxtonbarrashopping                     1  2019-05-25\n",
              "156  foxtonbarrashopping                     1  2019-05-31\n",
              "157  foxtonbarrashopping                     2  2019-06-11\n",
              "158  foxtonbarrashopping                     2  2019-06-12\n",
              "159  foxtonbarrashopping                     1  2019-06-14\n",
              "160        foxtonipanema                     1  2019-01-02\n",
              "161        foxtonipanema                     1  2019-01-17\n",
              "162        foxtonipanema                     1  2019-02-04\n",
              "163        foxtonipanema                     1  2019-02-07\n",
              "164        foxtonipanema                     1  2019-02-09\n",
              "165        foxtonipanema                     1  2019-02-12\n",
              "166        foxtonipanema                     1  2019-02-27\n",
              "167        foxtonipanema                     1  2019-03-04\n",
              "168        foxtonipanema                     1  2019-03-08\n",
              "169        foxtonipanema                     2  2019-03-11\n",
              "170        foxtonipanema                     1  2019-03-12\n",
              "171        foxtonipanema                     1  2019-03-21\n",
              "172        foxtonipanema                     1  2019-04-11\n",
              "173        foxtonipanema                     1  2019-04-14\n",
              "174        foxtonipanema                     1  2019-04-21\n",
              "175        foxtonipanema                     1  2019-04-26\n",
              "176        foxtonipanema                     1  2019-05-30\n",
              "177        foxtonipanema                     1  2019-06-08\n",
              "178        foxtonipanema                     1  2019-06-11\n",
              "179        foxtonipanema                     1  2019-06-12\n",
              "\n",
              "[180 rows x 3 columns]"
            ]
          },
          "metadata": {
            "tags": []
          },
          "execution_count": 10
        }
      ]
    },
    {
      "cell_type": "markdown",
      "metadata": {
        "id": "1kaXFKS9h8A0",
        "colab_type": "text"
      },
      "source": [
        "##Consulta informações (nome,total de vendas e valor total em reais) de cada filial"
      ]
    },
    {
      "cell_type": "code",
      "metadata": {
        "id": "WLAbAJy-OefI",
        "colab_type": "code",
        "colab": {}
      },
      "source": [
        "inf_filiais = engine.execute(\"SELECT nome_filial, COUNT(codigo_filial), SUM(valor_em_centavos)/100.0 FROM vendas GROUP BY codigo_filial\").fetchall()"
      ],
      "execution_count": 0,
      "outputs": []
    },
    {
      "cell_type": "markdown",
      "metadata": {
        "id": "yfTLpn09p4up",
        "colab_type": "text"
      },
      "source": [
        "###Converte saida da consulta para um dataframe para a leitura ficar mais clara"
      ]
    },
    {
      "cell_type": "code",
      "metadata": {
        "id": "RaNbpOm4m50X",
        "colab_type": "code",
        "colab": {
          "base_uri": "https://localhost:8080/",
          "height": 297
        },
        "outputId": "d8418504-e68e-48fd-8c7a-077e4abc8c13"
      },
      "source": [
        "pd.DataFrame(inf_filiais, columns = ['Nome filial', 'Quantidade de vendas','Valor total em reais'])"
      ],
      "execution_count": 12,
      "outputs": [
        {
          "output_type": "execute_result",
          "data": {
            "text/html": [
              "<div>\n",
              "<style scoped>\n",
              "    .dataframe tbody tr th:only-of-type {\n",
              "        vertical-align: middle;\n",
              "    }\n",
              "\n",
              "    .dataframe tbody tr th {\n",
              "        vertical-align: top;\n",
              "    }\n",
              "\n",
              "    .dataframe thead th {\n",
              "        text-align: right;\n",
              "    }\n",
              "</style>\n",
              "<table border=\"1\" class=\"dataframe\">\n",
              "  <thead>\n",
              "    <tr style=\"text-align: right;\">\n",
              "      <th></th>\n",
              "      <th>Nome filial</th>\n",
              "      <th>Quantidade de vendas</th>\n",
              "      <th>Valor total em reais</th>\n",
              "    </tr>\n",
              "  </thead>\n",
              "  <tbody>\n",
              "    <tr>\n",
              "      <th>0</th>\n",
              "      <td>foxtontijuca</td>\n",
              "      <td>19</td>\n",
              "      <td>25817.18</td>\n",
              "    </tr>\n",
              "    <tr>\n",
              "      <th>1</th>\n",
              "      <td>foxtongavea</td>\n",
              "      <td>29</td>\n",
              "      <td>47424.73</td>\n",
              "    </tr>\n",
              "    <tr>\n",
              "      <th>2</th>\n",
              "      <td>foxtonriosul</td>\n",
              "      <td>23</td>\n",
              "      <td>34315.18</td>\n",
              "    </tr>\n",
              "    <tr>\n",
              "      <th>3</th>\n",
              "      <td>foxtonfashionmall</td>\n",
              "      <td>19</td>\n",
              "      <td>30796.57</td>\n",
              "    </tr>\n",
              "    <tr>\n",
              "      <th>4</th>\n",
              "      <td>foxtonriodesignbarra</td>\n",
              "      <td>35</td>\n",
              "      <td>58044.13</td>\n",
              "    </tr>\n",
              "    <tr>\n",
              "      <th>5</th>\n",
              "      <td>foxtonshoppingleblon</td>\n",
              "      <td>24</td>\n",
              "      <td>35737.27</td>\n",
              "    </tr>\n",
              "    <tr>\n",
              "      <th>6</th>\n",
              "      <td>foxtonbarrashopping</td>\n",
              "      <td>30</td>\n",
              "      <td>43192.13</td>\n",
              "    </tr>\n",
              "    <tr>\n",
              "      <th>7</th>\n",
              "      <td>foxtonipanema</td>\n",
              "      <td>21</td>\n",
              "      <td>21670.67</td>\n",
              "    </tr>\n",
              "  </tbody>\n",
              "</table>\n",
              "</div>"
            ],
            "text/plain": [
              "            Nome filial  Quantidade de vendas  Valor total em reais\n",
              "0          foxtontijuca                    19              25817.18\n",
              "1           foxtongavea                    29              47424.73\n",
              "2          foxtonriosul                    23              34315.18\n",
              "3     foxtonfashionmall                    19              30796.57\n",
              "4  foxtonriodesignbarra                    35              58044.13\n",
              "5  foxtonshoppingleblon                    24              35737.27\n",
              "6   foxtonbarrashopping                    30              43192.13\n",
              "7         foxtonipanema                    21              21670.67"
            ]
          },
          "metadata": {
            "tags": []
          },
          "execution_count": 12
        }
      ]
    }
  ]
}